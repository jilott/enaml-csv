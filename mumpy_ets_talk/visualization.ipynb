{
 "metadata": {
  "name": "visualization"
 },
 "nbformat": 3,
 "nbformat_minor": 0,
 "worksheets": [
  {
   "cells": [
    {
     "cell_type": "code",
     "collapsed": false,
     "input": [
      "from traits.api import (\n",
      "    HasTraits, Float, Range, Enum, Int, Str, Bool, Array, File, Function, Instance,\n",
      "    Code\n",
      ")\n",
      "from traitsui.api import View, Item, FileEditor, CodeEditor, Group\n",
      "from chaco.api import Plot, ArrayPlotData\n",
      "from enable.component_editor import ComponentEditor\n",
      "import numpy as np"
     ],
     "language": "python",
     "metadata": {},
     "outputs": [],
     "prompt_number": 48
    },
    {
     "cell_type": "code",
     "collapsed": false,
     "input": [
      "class MyClass(HasTraits):\n",
      "    \n",
      "    myfile = File\n",
      "    code = Code\n",
      "    plot = Instance(Plot)\n",
      "    \n",
      "    view = View(Group(\n",
      "                    Group(Item('myfile',editor=FileEditor(),show_label=False),\n",
      "                          Item('code',editor=CodeEditor(),show_label=False,height=100),\n",
      "                          orientation='vertical'),\n",
      "                    Item('plot',editor=ComponentEditor(),show_label=False),\n",
      "                    orientation='vertical'), resizable=True)\n",
      "    \n",
      "    def _plot_default(self):\n",
      "        x = np.linspace(0,2*np.pi,1000)\n",
      "        y = np.sin(x)\n",
      "        plotdata = ArrayPlotData(x=x,y=y)\n",
      "        plot = Plot(plotdata)\n",
      "        plot.plot((\"x\",\"y\"))\n",
      "        return plot\n",
      "    \n",
      "    def _code_default(self):\n",
      "        return open(self.myfile,'r').read()\n",
      "    \n",
      "    def _myfile_changed(self):\n",
      "        self.code = open(self.myfile,'r').read()"
     ],
     "language": "python",
     "metadata": {},
     "outputs": [],
     "prompt_number": 62
    },
    {
     "cell_type": "code",
     "collapsed": false,
     "input": [
      "some_file = 'slides.tex'"
     ],
     "language": "python",
     "metadata": {},
     "outputs": [],
     "prompt_number": 63
    },
    {
     "cell_type": "code",
     "collapsed": false,
     "input": [
      "mc = MyClass(myfile=some_file)"
     ],
     "language": "python",
     "metadata": {},
     "outputs": [],
     "prompt_number": 64
    },
    {
     "cell_type": "code",
     "collapsed": false,
     "input": [
      "mc.configure_traits()"
     ],
     "language": "python",
     "metadata": {},
     "outputs": [
      {
       "output_type": "pyout",
       "prompt_number": 65,
       "text": [
        "True"
       ]
      }
     ],
     "prompt_number": 65
    },
    {
     "cell_type": "code",
     "collapsed": false,
     "input": [],
     "language": "python",
     "metadata": {},
     "outputs": []
    }
   ],
   "metadata": {}
  }
 ]
}